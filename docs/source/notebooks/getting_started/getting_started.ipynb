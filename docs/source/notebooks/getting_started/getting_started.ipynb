{
 "cells": [
  {
   "attachments": {},
   "cell_type": "markdown",
   "metadata": {},
   "source": [
    "# Getting started with pyglotaran\n",
    "\n",
    "What is pyglotaran?\n",
    "\n",
    "What is this notebook about?\n",
    "- You have some data you want to analyze. Probably .csv. We're going to show you how to import that later. First, let's go through the workflow.\n",
    "\n",
    "You have some data\n",
    "You want to plot your data, check that it's ok. \n",
    "Some notes about checking if data is ok. \n",
    "- No NaNs, no Ing.\n",
    "- No duplicate x or y values. Monotonic increasing.\n",
    "\n",
    "Once data ok, we want to fit the data. What do we need?\n",
    "We need a model, with some parameters and starting values for those parameters.\n",
    "We will organize this within a project."
   ]
  },
  {
   "cell_type": "markdown",
   "metadata": {},
   "source": [
    "Let us get some example data to analyze:"
   ]
  },
  {
   "cell_type": "code",
   "execution_count": null,
   "metadata": {},
   "outputs": [],
   "source": [
    "from glotaran.testing.simulated_data.sequential_spectral_decay import DATASET as my_dataset\n",
    "\n",
    "my_dataset"
   ]
  },
  {
   "cell_type": "markdown",
   "metadata": {},
   "source": [
    "Like all data in `pyglotaran`, the dataset is a [xarray.Dataset](https://xarray.pydata.org/en/stable/api.html#dataset).\n",
    "You can find more information about the ``xarray`` library the [xarray hompage](https://xarray.pydata.org/en/stable/).\n",
    "\n",
    "The loaded dataset is a simulated sequential model."
   ]
  },
  {
   "attachments": {},
   "cell_type": "markdown",
   "metadata": {},
   "source": [
    "## Plotting raw data\n",
    "Now lets plot some time traces."
   ]
  },
  {
   "cell_type": "code",
   "execution_count": null,
   "metadata": {},
   "outputs": [],
   "source": [
    "from pyglotaran_extras.plotting import plot_data_overview\n",
    "\n",
    "plot_data_overview(my_dataset);"
   ]
  },
  {
   "cell_type": "markdown",
   "metadata": {},
   "source": [
    "We can also plot spectra at different times."
   ]
  },
  {
   "cell_type": "markdown",
   "metadata": {},
   "source": [
    "## Starting a project\n",
    "\n",
    "To start using `pyglotaran` in your analysis, you only have to import the `Project` class \n",
    "and open a project."
   ]
  },
  {
   "cell_type": "code",
   "execution_count": null,
   "metadata": {},
   "outputs": [],
   "source": [
    "from glotaran.project import Project\n",
    "\n",
    "my_project = Project.open(\"my_project\")\n",
    "my_project"
   ]
  },
  {
   "cell_type": "markdown",
   "metadata": {},
   "source": [
    "If the project does not already exist this will create a new project and its folder structure for \n",
    "you. In our case we had only the `models` + `parameters` folders and the `data` + `results` folder\n",
    "were created when opening the project."
   ]
  },
  {
   "cell_type": "code",
   "execution_count": null,
   "metadata": {},
   "outputs": [],
   "source": [
    "%ls my_project"
   ]
  },
  {
   "attachments": {},
   "cell_type": "markdown",
   "metadata": {},
   "source": [
    "# Import the data into your project\n",
    "\n",
    "As long as you can read your data into a `xarray.Dataset` or `xarray.DataArray` you can directly \n",
    "import it in to your project. \n",
    "\n",
    "This will save your data as `NetCDF` (`.nc`) file into the data \n",
    "folder inside of your project with the name that you gave it (here `my_project/data/my_data.nc`).\n",
    "\n",
    "If the data format you are using is supported by a plugin you can simply copy the file to\n",
    "the data folder of the project (here `my_project/data`)."
   ]
  },
  {
   "cell_type": "code",
   "execution_count": null,
   "metadata": {},
   "outputs": [],
   "source": [
    "my_project.import_data(my_dataset, dataset_name=\"my_data\")\n",
    "my_project"
   ]
  },
  {
   "attachments": {},
   "cell_type": "markdown",
   "metadata": {},
   "source": [
    "After importing our `my_project` is aware of the data that we named `my_data` when importing."
   ]
  },
  {
   "attachments": {},
   "cell_type": "markdown",
   "metadata": {},
   "source": [
    "## Preparing data\n",
    "To get an idea about how to model your data, you should inspect the singular\n",
    "value decomposition. \n",
    "As a convenience the `load_data` method has the option to add svd data on the fly."
   ]
  },
  {
   "cell_type": "code",
   "execution_count": null,
   "metadata": {},
   "outputs": [],
   "source": [
    "dataset_with_svd = my_project.load_data(\"my_data\", add_svd=True)\n",
    "dataset_with_svd"
   ]
  },
  {
   "cell_type": "markdown",
   "metadata": {},
   "source": [
    "First, take a look at the first 10 singular values:"
   ]
  },
  {
   "cell_type": "code",
   "execution_count": null,
   "metadata": {},
   "outputs": [],
   "source": [
    "plot_data = dataset_with_svd.data_singular_values.sel(singular_value_index=range(10))\n",
    "plot_data.plot(yscale=\"log\", marker=\"o\", linewidth=0, aspect=2, size=5);"
   ]
  },
  {
   "attachments": {},
   "cell_type": "markdown",
   "metadata": {},
   "source": [
    "This tells us that our data have at least three components which we need to model."
   ]
  },
  {
   "attachments": {},
   "cell_type": "markdown",
   "metadata": {},
   "source": [
    "## Working with models\n",
    "\n",
    "To analyze our data, we need to create a model. \n",
    "\n",
    "Create a file called `my_model.yaml` in your projects `models` directory and fill it with the \n",
    "following content."
   ]
  },
  {
   "cell_type": "code",
   "execution_count": null,
   "metadata": {},
   "outputs": [],
   "source": [
    "my_project.show_model_definition(\"my_model\")"
   ]
  },
  {
   "attachments": {},
   "cell_type": "markdown",
   "metadata": {},
   "source": [
    "You can check your model for problems with the `validate` method."
   ]
  },
  {
   "cell_type": "code",
   "execution_count": null,
   "metadata": {},
   "outputs": [],
   "source": [
    "my_project.validate(\"my_model\")"
   ]
  },
  {
   "attachments": {},
   "cell_type": "markdown",
   "metadata": {},
   "source": [
    "## Working with parameters\n",
    "\n",
    "Now define some starting parameters. Create a file called `parameters.yaml` in your projects \n",
    "`parameters` directory with the following content."
   ]
  },
  {
   "cell_type": "code",
   "execution_count": null,
   "metadata": {},
   "outputs": [],
   "source": [
    "my_project.show_parameters_definition(\"my_parameters\")"
   ]
  },
  {
   "attachments": {},
   "cell_type": "markdown",
   "metadata": {},
   "source": [
    "Note the `{ \"vary\": False }` which tells `pyglotaran` that those parameters should not be changed."
   ]
  },
  {
   "attachments": {},
   "cell_type": "markdown",
   "metadata": {},
   "source": [
    "You can use `validate` method also to check for missing parameters."
   ]
  },
  {
   "cell_type": "code",
   "execution_count": null,
   "metadata": {},
   "outputs": [],
   "source": [
    "my_project.validate(\"my_model\", \"my_parameters\")"
   ]
  },
  {
   "attachments": {},
   "cell_type": "markdown",
   "metadata": {},
   "source": [
    "Since not all problems in the model can be detected automatically it is wise to\n",
    "visually inspect the model. For this purpose, you can just load the model and inspect its markdown \n",
    "rendered version."
   ]
  },
  {
   "cell_type": "code",
   "execution_count": null,
   "metadata": {},
   "outputs": [],
   "source": [
    "my_project.load_model(\"my_model\")"
   ]
  },
  {
   "cell_type": "markdown",
   "metadata": {},
   "source": [
    "The same way you should inspect your parameters."
   ]
  },
  {
   "cell_type": "code",
   "execution_count": null,
   "metadata": {},
   "outputs": [],
   "source": [
    "my_project.load_parameters(\"my_parameters\")"
   ]
  },
  {
   "attachments": {},
   "cell_type": "markdown",
   "metadata": {},
   "source": [
    "## Optimizing data\n",
    "\n",
    "Now we have everything together to optimize our parameters."
   ]
  },
  {
   "cell_type": "code",
   "execution_count": null,
   "metadata": {},
   "outputs": [],
   "source": [
    "result = my_project.optimize(\"my_model\", \"my_parameters\")\n",
    "result"
   ]
  },
  {
   "attachments": {},
   "cell_type": "markdown",
   "metadata": {},
   "source": [
    "Each time you run an optimization the result will be saved in the projects results folder."
   ]
  },
  {
   "cell_type": "code",
   "execution_count": null,
   "metadata": {},
   "outputs": [],
   "source": [
    "%ls \"quickstart_project/results\""
   ]
  },
  {
   "attachments": {},
   "cell_type": "markdown",
   "metadata": {},
   "source": [
    "To visualize how quickly the optimization converged we ca plot the optimality of the \n",
    "`optimization_history`."
   ]
  },
  {
   "cell_type": "code",
   "execution_count": null,
   "metadata": {},
   "outputs": [],
   "source": [
    "result.optimization_history.data[\"optimality\"].plot(logy=True)"
   ]
  },
  {
   "cell_type": "code",
   "execution_count": null,
   "metadata": {},
   "outputs": [],
   "source": [
    "result.optimized_parameters"
   ]
  },
  {
   "attachments": {},
   "cell_type": "markdown",
   "metadata": {},
   "source": [
    "You can inspect the data of your `result` by accessing `data` attribute. In our example it only \n",
    "contains our single `my_data` dataset, but it ca contain as many dataset as you analysis needs."
   ]
  },
  {
   "cell_type": "code",
   "execution_count": null,
   "metadata": {},
   "outputs": [],
   "source": [
    "result.data"
   ]
  },
  {
   "cell_type": "markdown",
   "metadata": {},
   "source": [
    "## Visualize the Result\n",
    "\n",
    "The resulting data can be visualized the same way as the dataset. To judge the\n",
    "quality of the fit, you should look at first left and right singular vectors of\n",
    "the residual."
   ]
  },
  {
   "cell_type": "code",
   "execution_count": null,
   "metadata": {},
   "outputs": [],
   "source": [
    "result_dataset = result.data[\"my_data\"]\n",
    "\n",
    "residual_left = result_dataset.residual_left_singular_vectors.sel(left_singular_value_index=0)\n",
    "residual_right = result_dataset.residual_right_singular_vectors.sel(right_singular_value_index=0)\n",
    "residual_left.plot.line(x=\"time\", aspect=2, size=5)\n",
    "residual_right.plot.line(x=\"spectral\", aspect=2, size=5);"
   ]
  }
 ],
 "metadata": {
  "kernelspec": {
   "display_name": "pyglotaran310",
   "language": "python",
   "name": "python3"
  },
  "language_info": {
   "codemirror_mode": {
    "name": "ipython",
    "version": 3
   },
   "file_extension": ".py",
   "mimetype": "text/x-python",
   "name": "python",
   "nbconvert_exporter": "python",
   "pygments_lexer": "ipython3"
  }
 },
 "nbformat": 4,
 "nbformat_minor": 4
}
