{
 "cells": [
  {
   "cell_type": "markdown",
   "metadata": {},
   "source": [
    "# Data inspection\n",
    "\n",
    "The datasets found in this data folder are described in the publication referenced below.\n",
    "\n",
    "They represent transient absorption spectroscopy measurements on the so-called `co` and `c2o` compounds dissolved in toluene and excited at 530 nm.\n",
    "\n",
    "The `co` sample is a compound containing one calix[4]arene unit, the `c2o` sample is a compound containing two calix[4]arene units.\n",
    "\n",
    "The data in question originates from an experiment investigating a supramolecular building block consisting of a perylene bisimide chromophore (called orange) substituted with one or two calix[4]arene units, termed oc and o2c respectively. The orange chromophore is highly fluorescent with a quantum yield close to 1 and a lifetime of around 4 ns. In contrast, oc has a very low quantum yield. In the referenced study femtosecond transient absorption spectroscopy is used to investigate a particular quenching process, likely to be attributed to a rapid photo-induced electron-transfer process. For more detail see the publication.\n",
    "\n",
    "---\n",
    "**REFERENCE**\n",
    "\n",
    "> Excited State Interactions in Calix[4]arene−Perylene Bisimide Dye Conjugates: Global and Target Analysis of Supramolecular Building Blocks\n",
    "> \n",
    "> Catharina Hippius, Ivo H. M. van Stokkum, E. Zangrando, René M. Williams, and Frank Würthner\n",
    "> \n",
    "> The Journal of Physical Chemistry C 2007 111 (37), 13988-13996\n",
    "> \n",
    "> DOI: [10.1021/jp0733825](https://doi.org/10.1021/jp0733825)\n",
    "\n",
    "---"
   ]
  },
  {
   "cell_type": "markdown",
   "metadata": {},
   "source": [
    "## Requirements to run the notebook\n",
    "\n",
    "Be sure to have installed [pyglotaran](https://pypi.org/project/pyglotaran/) version 0.8 or greater, as well as [pyglotaran-extras](https://pypi.org/project/pyglotaran-extras/).\n",
    "\n",
    "```shell\n",
    "pip install pyglotaran>0.8 pyglotaran-extras\n",
    "```"
   ]
  },
  {
   "cell_type": "markdown",
   "metadata": {},
   "source": [
    "## Imports\n",
    "\n",
    "Imports needed for the whole notebook"
   ]
  },
  {
   "cell_type": "code",
   "execution_count": null,
   "metadata": {},
   "outputs": [],
   "source": [
    "# Primary import\n",
    "# For plotting\n",
    "from pyglotaran_extras import plot_data_overview\n",
    "\n",
    "from glotaran.io import load_dataset"
   ]
  },
  {
   "cell_type": "markdown",
   "metadata": {},
   "source": [
    "## First experiment\n",
    "\n",
    "The first dataset is named `demo_data_Hippius_etal_JPCC2007_111_13988_Figs5_9.ascii` and was also the dataset included with the demo project provided with the (now [glotaran-legacy](https://github.com/glotaran/glotaran-legacy)) Glotaran software. "
   ]
  },
  {
   "cell_type": "markdown",
   "metadata": {},
   "source": [
    "### Load data\n",
    "\n",
    "Note that the data files are loaded with respect to the location of the notebook."
   ]
  },
  {
   "cell_type": "code",
   "execution_count": null,
   "metadata": {},
   "outputs": [],
   "source": [
    "dataset1 = load_dataset(\"demo_data_Hippius_etal_JPCC2007_111_13988_Figs5_9.ascii\")\n",
    "plot_data_overview(dataset1, linlog=True)\n",
    "dataset1.data.coords"
   ]
  },
  {
   "cell_type": "markdown",
   "metadata": {},
   "source": [
    "## Second experiment\n",
    "\n",
    "Multiple datasets - co and c20 samples"
   ]
  },
  {
   "cell_type": "code",
   "execution_count": null,
   "metadata": {},
   "outputs": [],
   "source": [
    "dataset_co = load_dataset(\"2016co_tol.ascii\")\n",
    "dataset_c2o = load_dataset(\"2016c2o_tol.ascii\")"
   ]
  },
  {
   "cell_type": "code",
   "execution_count": null,
   "metadata": {},
   "outputs": [],
   "source": [
    "plot_data_overview(dataset_co, linlog=True)\n",
    "dataset_co.data.coords.keys()"
   ]
  },
  {
   "cell_type": "code",
   "execution_count": null,
   "metadata": {},
   "outputs": [],
   "source": [
    "plot_data_overview(dataset_c2o, linlog=True)\n",
    "dataset_c2o.data.coords.keys()"
   ]
  },
  {
   "cell_type": "markdown",
   "metadata": {},
   "source": [
    "## Compare dataset\n",
    "\n",
    "Although the dataset `demo_data_Hippius_etal_JPCC2007_111_13988_Figs5_9.ascii` and `2016co_tol.ascii` concern the same sample/measurement, there are some differences in the spectral-time window, the  normalization of the data, and pre-processing (background subtraction), which is why the second experiment uses different data files than the first.\n",
    "\n",
    "Using the fact, that the datasets are loaded in as xarray objects we can easily compare them as this section aims to illustrate."
   ]
  },
  {
   "cell_type": "code",
   "execution_count": null,
   "metadata": {},
   "outputs": [],
   "source": [
    "print(f\"{dataset1.coords=}\")\n",
    "print(f\"{dataset1.data.to_numpy().max()=}\")\n",
    "print(f\"{dataset_co.coords=}\")\n",
    "print(f\"{dataset_co.data.to_numpy().max()=}\")\n",
    "# Note the different shapes of the data arrays, and almost 1000x difference in the maximum value"
   ]
  },
  {
   "cell_type": "code",
   "execution_count": null,
   "metadata": {},
   "outputs": [],
   "source": [
    "# Slice the dataset to the same time and spectral range for a quick visual inspection\n",
    "dataset1_sliced = dataset1.sel(\n",
    "    time=slice(dataset_co.time.min(), dataset_co.time.max()),\n",
    "    spectral=slice(dataset_co.spectral.min(), dataset_co.spectral.max()),\n",
    ")\n",
    "plot_data_overview(dataset1_sliced, linlog=True)\n",
    "plot_data_overview(dataset_co, linlog=True)"
   ]
  },
  {
   "cell_type": "code",
   "execution_count": null,
   "metadata": {},
   "outputs": [],
   "source": [
    "# We load the data with prepare=False to avoid the additional processing\n",
    "dataset1 = load_dataset(\"demo_data_Hippius_etal_JPCC2007_111_13988_Figs5_9.ascii\", prepare=False)\n",
    "dataset_co = load_dataset(\"2016co_tol.ascii\", prepare=False)\n",
    "\n",
    "# Slice the dataset to the same time and spectral range\n",
    "dataset1_sliced = dataset1.sel(\n",
    "    time=slice(dataset_co.time.min(), dataset_co.time.max()),\n",
    "    spectral=slice(dataset_co.spectral.min(), dataset_co.spectral.max()),\n",
    ")\n",
    "\n",
    "# Subtract mean spectrum for the first 20 timepoints from dataset1_sliced\n",
    "mean_spectrum_dataset1 = dataset1_sliced.isel(time=slice(0, 20)).mean(dim=\"time\")\n",
    "dataset1_sliced_subtracted = dataset1_sliced - mean_spectrum_dataset1\n",
    "\n",
    "# Subtract mean spectrum for the first 20 timepoints from dataset_co\n",
    "mean_spectrum_dataset_co = dataset_co.isel(time=slice(0, 20)).mean(dim=\"time\")\n",
    "dataset_co_subtracted = dataset_co - mean_spectrum_dataset_co\n",
    "\n",
    "# Normalize the subtracted datasets\n",
    "dataset1_norm_subtracted = dataset1_sliced_subtracted / dataset1_sliced_subtracted.max()\n",
    "dataset_co_norm_subtracted = dataset_co_subtracted / dataset_co_subtracted.max()\n",
    "\n",
    "# Align the coordinates of dataset1 to dataset_co\n",
    "dataset_1_interpolated_subtracted = dataset1_norm_subtracted.interp(\n",
    "    time=dataset_co_norm_subtracted.time, spectral=dataset_co_norm_subtracted.spectral\n",
    ")\n",
    "\n",
    "# Calculate the difference between the aligned datasets\n",
    "difference_subtracted = dataset_co_norm_subtracted - dataset_1_interpolated_subtracted\n",
    "\n",
    "# Fill NaN values with 0\n",
    "difference_subtracted = difference_subtracted.fillna(0)\n",
    "\n",
    "# Plot the difference\n",
    "plot_data_overview(difference_subtracted, linlog=True)\n",
    "difference_subtracted"
   ]
  }
 ],
 "metadata": {
  "kernelspec": {
   "display_name": "pyglotaran310",
   "language": "python",
   "name": "python3"
  },
  "language_info": {
   "codemirror_mode": {
    "name": "ipython",
    "version": 3
   },
   "file_extension": ".py",
   "mimetype": "text/x-python",
   "name": "python",
   "nbconvert_exporter": "python",
   "pygments_lexer": "ipython3"
  }
 },
 "nbformat": 4,
 "nbformat_minor": 2
}
