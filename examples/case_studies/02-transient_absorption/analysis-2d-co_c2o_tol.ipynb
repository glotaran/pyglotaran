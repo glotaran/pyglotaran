{
 "cells": [
  {
   "cell_type": "markdown",
   "metadata": {},
   "source": [
    "# Example Case Study 02B\n",
    "\n",
    "## Two dataset transient absorption case study\n",
    "\n",
    "This notebook details the (global) target analysis of a tim-resolved transient absorption spectroscope measurement on a so called `co` compound dissolved in toluene and excited at 530 nm.\n",
    "\n",
    "For more details see the references in [README.md](README.md) or have a look at the [inspect_data.ipynb](data/inspect_data.ipynb) notebook.\n",
    "\n"
   ]
  },
  {
   "cell_type": "markdown",
   "metadata": {},
   "source": [
    "## Requirements\n",
    "\n",
    "Be sure to have installed [pyglotaran](https://pypi.org/project/pyglotaran/) version 0.8 or greater, as well as [pyglotaran-extras](https://pypi.org/project/pyglotaran-extras/).\n",
    "\n",
    "```shell\n",
    "pip install pyglotaran>0.8 pyglotaran-extras\n",
    "```"
   ]
  },
  {
   "cell_type": "markdown",
   "metadata": {},
   "source": [
    "## Imports\n",
    "\n",
    "Imports needed for the whole notebook"
   ]
  },
  {
   "cell_type": "code",
   "execution_count": null,
   "metadata": {},
   "outputs": [],
   "source": [
    "# Primary imports\n",
    "# For plotting\n",
    "from pyglotaran_extras import plot_data_overview, plot_overview\n",
    "\n",
    "# For backwards compatibility (with v0.7)\n",
    "from pyglotaran_extras.compat import convert\n",
    "\n",
    "from glotaran.io import load_dataset, load_parameters, load_scheme\n",
    "\n",
    "# Optional import for schema generation\n",
    "from glotaran.utils.json_schema import create_model_scheme_json_schema"
   ]
  },
  {
   "cell_type": "markdown",
   "metadata": {},
   "source": [
    "## Load data"
   ]
  },
  {
   "cell_type": "code",
   "execution_count": null,
   "metadata": {},
   "outputs": [],
   "source": [
    "data_path1 = \"data/2016co_tol.ascii\"\n",
    "dataset1 = load_dataset(data_path1)\n",
    "data_path2 = \"data/2016c2o_tol.ascii\"\n",
    "dataset2 = load_dataset(data_path2)"
   ]
  },
  {
   "cell_type": "code",
   "execution_count": null,
   "metadata": {},
   "outputs": [],
   "source": [
    "plot_data_overview(dataset1, linlog=True)\n",
    "dataset1.data.coords.keys()"
   ]
  },
  {
   "cell_type": "code",
   "execution_count": null,
   "metadata": {},
   "outputs": [],
   "source": [
    "plot_data_overview(dataset2, linlog=True)\n",
    "dataset2.data.coords.keys()"
   ]
  },
  {
   "cell_type": "markdown",
   "metadata": {},
   "source": [
    "## Target Analysis\n",
    "\n",
    "Single dataset - co sample"
   ]
  },
  {
   "cell_type": "markdown",
   "metadata": {},
   "source": [
    "### Load analysis scheme and parameters"
   ]
  },
  {
   "cell_type": "code",
   "execution_count": null,
   "metadata": {},
   "outputs": [],
   "source": [
    "parameters = load_parameters(\"parameters_2d_co_co2.yml\")\n",
    "create_model_scheme_json_schema(\"schema_2d.json\", parameters)\n",
    "# this generates a json schema file which helps to provide autocompletion support\n",
    "# in editors for the scheme file\n",
    "\n",
    "scheme = load_scheme(\"scheme_2d_co_co2.yml\")"
   ]
  },
  {
   "cell_type": "markdown",
   "metadata": {},
   "source": [
    "#### Load data into scheme"
   ]
  },
  {
   "cell_type": "code",
   "execution_count": null,
   "metadata": {},
   "outputs": [],
   "source": [
    "scheme.load_data(\n",
    "    {\n",
    "        \"dataset1\": dataset1,\n",
    "        \"dataset2\": dataset2,\n",
    "    }\n",
    ")"
   ]
  },
  {
   "cell_type": "markdown",
   "metadata": {},
   "source": [
    "## Optimization (fitting)"
   ]
  },
  {
   "cell_type": "code",
   "execution_count": null,
   "metadata": {},
   "outputs": [],
   "source": [
    "result = scheme.optimize(parameters=parameters, maximum_number_function_evaluations=7)"
   ]
  },
  {
   "cell_type": "markdown",
   "metadata": {},
   "source": [
    "## Visualize results (plotting)"
   ]
  },
  {
   "cell_type": "code",
   "execution_count": null,
   "metadata": {},
   "outputs": [],
   "source": [
    "# For backwards compatibility (with v0.7 plotting functions)\n",
    "# result_compat = convert_dataset(result.data[\"dataset1\"])\n",
    "# plot_overview(result_compat, linlog=False);\n",
    "result_plot_ds1, _ = plot_overview(convert(result.data[\"dataset1\"]), linlog=True)\n",
    "result_plot_ds2, _ = plot_overview(convert(result.data[\"dataset2\"]), linlog=True)"
   ]
  }
 ],
 "metadata": {
  "kernelspec": {
   "display_name": "pyglotaran310",
   "language": "python",
   "name": "python3"
  },
  "language_info": {
   "codemirror_mode": {
    "name": "ipython",
    "version": 3
   },
   "file_extension": ".py",
   "mimetype": "text/x-python",
   "name": "python",
   "nbconvert_exporter": "python",
   "pygments_lexer": "ipython3"
  }
 },
 "nbformat": 4,
 "nbformat_minor": 2
}
